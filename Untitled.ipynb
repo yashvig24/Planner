{
 "cells": [
  {
   "cell_type": "code",
   "execution_count": 242,
   "metadata": {},
   "outputs": [
    {
     "data": {
      "text/plain": [
       "array([[0, 1],\n",
       "       [1, 5],\n",
       "       [1, 7],\n",
       "       [1, 8],\n",
       "       [2, 7],\n",
       "       [3, 2],\n",
       "       [3, 6],\n",
       "       [4, 2],\n",
       "       [4, 8],\n",
       "       [4, 9]])"
      ]
     },
     "execution_count": 242,
     "metadata": {},
     "output_type": "execute_result"
    }
   ],
   "source": [
    "import numpy as np\n",
    "map_data = np.loadtxt('maps/map1.txt').astype(np.int)\n",
    "\n",
    "random_vertices_x = np.random.uniform(0, map_data.shape[0] - 1, (10, 1))\n",
    "random_vertices_y = np.random.uniform(0, map_data.shape[1] - 1, (10, 1))\n",
    "x = np.append(random_vertices_x, random_vertices_y, axis = 1)\n",
    "\n",
    "x = np.around(x)\n",
    "x = np.unique(x, axis = 0)\n",
    "x = x.astype(np.int)\n",
    "x"
   ]
  },
  {
   "cell_type": "code",
   "execution_count": 243,
   "metadata": {},
   "outputs": [],
   "source": [
    "indexlist = np.argsort(np.linalg.norm(x,axis=1))"
   ]
  },
  {
   "cell_type": "code",
   "execution_count": 244,
   "metadata": {},
   "outputs": [
    {
     "data": {
      "text/plain": [
       "array([[0, 1],\n",
       "       [3, 2],\n",
       "       [4, 2],\n",
       "       [1, 5],\n",
       "       [3, 6],\n",
       "       [1, 7],\n",
       "       [2, 7],\n",
       "       [1, 8],\n",
       "       [4, 8],\n",
       "       [4, 9]])"
      ]
     },
     "execution_count": 244,
     "metadata": {},
     "output_type": "execute_result"
    }
   ],
   "source": [
    "x[indexlist]"
   ]
  },
  {
   "cell_type": "code",
   "execution_count": 245,
   "metadata": {},
   "outputs": [
    {
     "data": {
      "text/plain": [
       "array([1.        , 3.60555128, 4.47213595, 5.09901951, 6.70820393,\n",
       "       7.07106781, 7.28010989, 8.06225775, 8.94427191, 9.8488578 ])"
      ]
     },
     "execution_count": 245,
     "metadata": {},
     "output_type": "execute_result"
    }
   ],
   "source": [
    "np.linalg.norm(x[indexlist], axis = 1)"
   ]
  },
  {
   "cell_type": "code",
   "execution_count": 234,
   "metadata": {},
   "outputs": [
    {
     "data": {
      "text/plain": [
       "array([ 3.        ,  3.        ,  4.12310563,  5.09901951,  5.09901951,\n",
       "        5.38516481,  6.32455532,  8.54400375,  8.94427191, 10.29563014])"
      ]
     },
     "execution_count": 234,
     "metadata": {},
     "output_type": "execute_result"
    }
   ],
   "source": []
  },
  {
   "cell_type": "code",
   "execution_count": 249,
   "metadata": {},
   "outputs": [],
   "source": [
    "x = (np.array([1,2]), np.array([1,2]), 3)"
   ]
  },
  {
   "cell_type": "code",
   "execution_count": 250,
   "metadata": {},
   "outputs": [
    {
     "data": {
      "text/plain": [
       "tuple"
      ]
     },
     "execution_count": 250,
     "metadata": {},
     "output_type": "execute_result"
    }
   ],
   "source": [
    "type(x)"
   ]
  },
  {
   "cell_type": "code",
   "execution_count": 265,
   "metadata": {},
   "outputs": [],
   "source": [
    "import random\n",
    "r = []\n",
    "for i in range(100000):\n",
    "    r.append(random.randint(0,11))"
   ]
  },
  {
   "cell_type": "code",
   "execution_count": 267,
   "metadata": {},
   "outputs": [
    {
     "data": {
      "text/plain": [
       "0"
      ]
     },
     "execution_count": 267,
     "metadata": {},
     "output_type": "execute_result"
    }
   ],
   "source": [
    "min(r)"
   ]
  },
  {
   "cell_type": "code",
   "execution_count": 275,
   "metadata": {},
   "outputs": [
    {
     "data": {
      "text/plain": [
       "array([0, 1, 2, 3, 4, 5, 6, 7, 8, 9])"
      ]
     },
     "execution_count": 275,
     "metadata": {},
     "output_type": "execute_result"
    }
   ],
   "source": [
    "x = np.arange(10)\n",
    "x"
   ]
  },
  {
   "cell_type": "code",
   "execution_count": 276,
   "metadata": {},
   "outputs": [
    {
     "data": {
      "text/plain": [
       "array([0, 1, 4, 5, 6, 7, 8, 9])"
      ]
     },
     "execution_count": 276,
     "metadata": {},
     "output_type": "execute_result"
    }
   ],
   "source": [
    "np.append(x[:2], x[4:])"
   ]
  },
  {
   "cell_type": "code",
   "execution_count": 279,
   "metadata": {},
   "outputs": [
    {
     "data": {
      "text/plain": [
       "array([0.        , 1.41421356, 2.82842712, 4.24264069])"
      ]
     },
     "execution_count": 279,
     "metadata": {},
     "output_type": "execute_result"
    }
   ],
   "source": [
    "x = np.array([1,2])\n",
    "y = np.array([[1,2], [2,3], [3,4], [4,5]])\n",
    "np.linalg.norm(y - x, ord = 2, axis = 1)"
   ]
  },
  {
   "cell_type": "code",
   "execution_count": 283,
   "metadata": {},
   "outputs": [],
   "source": [
    "def generate_path(config1, config2):\n",
    "    config1 = np.array(config1)\n",
    "    config2 = np.array(config2)\n",
    "    dist = np.linalg.norm(config2 - config1)\n",
    "    if dist == 0:\n",
    "        return config1, dist\n",
    "    direction = (config2 - config1) / dist\n",
    "    steps = dist // 0.5 + 1\n",
    "\n",
    "    waypoints = np.array([np.linspace(config1[i], config2[i], steps) for i in range(2)]).transpose()\n",
    "\n",
    "    return waypoints, dist"
   ]
  },
  {
   "cell_type": "code",
   "execution_count": 298,
   "metadata": {},
   "outputs": [
    {
     "name": "stderr",
     "output_type": "stream",
     "text": [
      "/anaconda3/lib/python3.6/site-packages/ipykernel_launcher.py:10: DeprecationWarning: object of type <class 'numpy.float64'> cannot be safely interpreted as an integer.\n",
      "  # Remove the CWD from sys.path while we load stuff.\n"
     ]
    }
   ],
   "source": [
    "x, _ = generate_path([0,0], [1,4])"
   ]
  },
  {
   "cell_type": "code",
   "execution_count": 300,
   "metadata": {},
   "outputs": [],
   "source": [
    "x = np.floor(x)\n",
    "x= x.astype(int)"
   ]
  },
  {
   "cell_type": "code",
   "execution_count": 301,
   "metadata": {},
   "outputs": [
    {
     "data": {
      "text/plain": [
       "array([[0, 0],\n",
       "       [0, 0],\n",
       "       [0, 1],\n",
       "       [0, 1],\n",
       "       [0, 2],\n",
       "       [0, 2],\n",
       "       [0, 3],\n",
       "       [0, 3],\n",
       "       [1, 4]])"
      ]
     },
     "execution_count": 301,
     "metadata": {},
     "output_type": "execute_result"
    }
   ],
   "source": [
    "x"
   ]
  },
  {
   "cell_type": "code",
   "execution_count": null,
   "metadata": {},
   "outputs": [],
   "source": []
  }
 ],
 "metadata": {
  "kernelspec": {
   "display_name": "Python 3",
   "language": "python",
   "name": "python3"
  },
  "language_info": {
   "codemirror_mode": {
    "name": "ipython",
    "version": 3
   },
   "file_extension": ".py",
   "mimetype": "text/x-python",
   "name": "python",
   "nbconvert_exporter": "python",
   "pygments_lexer": "ipython3",
   "version": "3.6.5"
  }
 },
 "nbformat": 4,
 "nbformat_minor": 2
}
